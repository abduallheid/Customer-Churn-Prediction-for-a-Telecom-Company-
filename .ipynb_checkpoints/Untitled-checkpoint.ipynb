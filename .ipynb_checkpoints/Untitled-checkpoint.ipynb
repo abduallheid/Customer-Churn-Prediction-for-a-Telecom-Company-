{
 "cells": [
  {
   "cell_type": "code",
   "execution_count": 189,
   "id": "329a351d",
   "metadata": {},
   "outputs": [],
   "source": [
    "import sys \n",
    "import pandas as pd\n",
    "import joblib\n",
    "from sklearn.preprocessing import StandardScaler\n",
    "import numpy as np"
   ]
  },
  {
   "cell_type": "code",
   "execution_count": 180,
   "id": "ed6fbfeb",
   "metadata": {},
   "outputs": [],
   "source": [
    "cv= \"out.csv\"\n",
    "cvdata = pd.read_csv(cv)\n"
   ]
  },
  {
   "cell_type": "code",
   "execution_count": 181,
   "id": "9235b589",
   "metadata": {},
   "outputs": [],
   "source": [
    "# handle object and bool col\n",
    "for col in cvdata.columns:\n",
    "    if cvdata[col].dtype==\"object\":\n",
    "        cvdata[col]=cvdata[col].replace({\"yes\":1,\"no\":0})\n",
    "    elif cvdata[col].dtype==\"bool\":\n",
    "        cvdata[col]=cvdata[col].astype(int)"
   ]
  },
  {
   "cell_type": "code",
   "execution_count": 158,
   "id": "e616a77c",
   "metadata": {},
   "outputs": [],
   "source": [
    "model =joblib.load(\"RF_v1.ml\")"
   ]
  },
  {
   "cell_type": "code",
   "execution_count": 184,
   "id": "f5661199",
   "metadata": {},
   "outputs": [
    {
     "data": {
      "text/plain": [
       "array([[ 0.69894149, -0.32324017,  1.66712012, ..., -0.58423577,\n",
       "        -0.0955088 , -0.43667564],\n",
       "       [ 0.16984882, -0.32324017,  1.66712012, ..., -0.58423577,\n",
       "         1.24598231, -0.43667564],\n",
       "       [ 0.92569549, -0.32324017, -0.5998368 , ...,  0.22991664,\n",
       "         0.69597096, -1.20223603],\n",
       "       ...,\n",
       "       [-0.98911606, -0.32324017, -0.5998368 , ..., -0.17715957,\n",
       "         1.20573758, -0.43667564],\n",
       "       [ 0.2202386 , -0.32324017, -0.5998368 , ...,  0.63699285,\n",
       "        -0.63210525, -1.20223603],\n",
       "       [-0.35924384, -0.32324017,  1.66712012, ...,  4.70775494,\n",
       "        -0.35039211, -1.20223603]])"
      ]
     },
     "execution_count": 184,
     "metadata": {},
     "output_type": "execute_result"
    }
   ],
   "source": [
    "Sc=StandardScaler()\n",
    "cvdata=Sc.fit_transform(cvdata)\n",
    "cvdata"
   ]
  },
  {
   "cell_type": "code",
   "execution_count": null,
   "id": "fd7044fd",
   "metadata": {},
   "outputs": [],
   "source": [
    "\n",
    "for i in range(0,len(cvdata)-1):\n",
    "    \n",
    "    res =model.predict(cvdata[i:i+1])\n",
    "    "
   ]
  },
  {
   "cell_type": "code",
   "execution_count": 220,
   "id": "0a1d6ac9",
   "metadata": {},
   "outputs": [
    {
     "data": {
      "text/html": [
       "<div>\n",
       "<style scoped>\n",
       "    .dataframe tbody tr th:only-of-type {\n",
       "        vertical-align: middle;\n",
       "    }\n",
       "\n",
       "    .dataframe tbody tr th {\n",
       "        vertical-align: top;\n",
       "    }\n",
       "\n",
       "    .dataframe thead th {\n",
       "        text-align: right;\n",
       "    }\n",
       "</style>\n",
       "<table border=\"1\" class=\"dataframe\">\n",
       "  <thead>\n",
       "    <tr style=\"text-align: right;\">\n",
       "      <th></th>\n",
       "      <th>0</th>\n",
       "      <th>1</th>\n",
       "      <th>2</th>\n",
       "      <th>3</th>\n",
       "      <th>4</th>\n",
       "      <th>5</th>\n",
       "      <th>6</th>\n",
       "      <th>7</th>\n",
       "      <th>8</th>\n",
       "      <th>9</th>\n",
       "      <th>10</th>\n",
       "      <th>11</th>\n",
       "      <th>12</th>\n",
       "      <th>13</th>\n",
       "      <th>14</th>\n",
       "      <th>15</th>\n",
       "      <th>16</th>\n",
       "    </tr>\n",
       "  </thead>\n",
       "  <tbody>\n",
       "    <tr>\n",
       "      <th>0</th>\n",
       "      <td>0.169849</td>\n",
       "      <td>-0.32324</td>\n",
       "      <td>1.66712</td>\n",
       "      <td>1.346973</td>\n",
       "      <td>-0.346802</td>\n",
       "      <td>1.158422</td>\n",
       "      <td>-0.347082</td>\n",
       "      <td>-0.101621</td>\n",
       "      <td>0.141693</td>\n",
       "      <td>-0.101089</td>\n",
       "      <td>1.068992</td>\n",
       "      <td>0.154374</td>\n",
       "      <td>1.069818</td>\n",
       "      <td>1.245227</td>\n",
       "      <td>-0.584236</td>\n",
       "      <td>1.245982</td>\n",
       "      <td>-0.436676</td>\n",
       "    </tr>\n",
       "  </tbody>\n",
       "</table>\n",
       "</div>"
      ],
      "text/plain": [
       "         0        1        2         3         4         5         6   \\\n",
       "0  0.169849 -0.32324  1.66712  1.346973 -0.346802  1.158422 -0.347082   \n",
       "\n",
       "         7         8         9         10        11        12        13  \\\n",
       "0 -0.101621  0.141693 -0.101089  1.068992  0.154374  1.069818  1.245227   \n",
       "\n",
       "         14        15        16  \n",
       "0 -0.584236  1.245982 -0.436676  "
      ]
     },
     "execution_count": 220,
     "metadata": {},
     "output_type": "execute_result"
    }
   ],
   "source": [
    "sample = pd.DataFrame(data=cvdata[1:2])\n",
    "sample"
   ]
  },
  {
   "cell_type": "code",
   "execution_count": 221,
   "id": "728db579",
   "metadata": {},
   "outputs": [],
   "source": [
    "sample[\"17\"]=1"
   ]
  },
  {
   "cell_type": "code",
   "execution_count": null,
   "id": "e37e4923",
   "metadata": {},
   "outputs": [],
   "source": []
  }
 ],
 "metadata": {
  "kernelspec": {
   "display_name": "Python 3 (ipykernel)",
   "language": "python",
   "name": "python3"
  },
  "language_info": {
   "codemirror_mode": {
    "name": "ipython",
    "version": 3
   },
   "file_extension": ".py",
   "mimetype": "text/x-python",
   "name": "python",
   "nbconvert_exporter": "python",
   "pygments_lexer": "ipython3",
   "version": "3.7.6"
  }
 },
 "nbformat": 4,
 "nbformat_minor": 5
}
